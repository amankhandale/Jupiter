{
 "cells": [
  {
   "cell_type": "code",
   "execution_count": 2,
   "metadata": {},
   "outputs": [
    {
     "data": {
      "text/plain": [
       "'1.24.3'"
      ]
     },
     "execution_count": 2,
     "metadata": {},
     "output_type": "execute_result"
    }
   ],
   "source": [
    "import numpy as np\n",
    "np.__version__"
   ]
  },
  {
   "cell_type": "code",
   "execution_count": 3,
   "metadata": {},
   "outputs": [
    {
     "name": "stdout",
     "output_type": "stream",
     "text": [
      "[1 2 3 4 5 6]\n",
      "<class 'numpy.ndarray'>\n"
     ]
    }
   ],
   "source": [
    "# Create a Numpy array\n",
    "\n",
    "arr = np.array([1,2,3,4,5,6])\n",
    "print(arr)\n",
    "print(type(arr))"
   ]
  },
  {
   "cell_type": "code",
   "execution_count": 4,
   "metadata": {},
   "outputs": [
    {
     "name": "stdout",
     "output_type": "stream",
     "text": [
      "[1, 2, 3, 4, 5, 1, 2, 3, 4, 5]\n",
      "[20 40 60 80]\n"
     ]
    }
   ],
   "source": [
    "# Numpy vs List\n",
    "list1 = [1,2,3,4,5]\n",
    "print(list1*2)\n",
    "\n",
    "arr = np.array([10,20,30,40])\n",
    "print(arr*2)"
   ]
  },
  {
   "cell_type": "code",
   "execution_count": 5,
   "metadata": {},
   "outputs": [
    {
     "name": "stdout",
     "output_type": "stream",
     "text": [
      "[10, 2.56, 'python', True]\n",
      "['10' '2.56' 'Python' 'True']\n"
     ]
    }
   ],
   "source": [
    "list1 = [10, 2.56, 'python', True]\n",
    "print(list1)\n",
    "\n",
    "arr = np.array([10, 2.56, 'Python', True]) #dont use different datatypes in array\n",
    "print(arr)"
   ]
  },
  {
   "cell_type": "code",
   "execution_count": 6,
   "metadata": {},
   "outputs": [
    {
     "name": "stdout",
     "output_type": "stream",
     "text": [
      "[10 20 30]\n"
     ]
    }
   ],
   "source": [
    "# Array: Create 1D and 2D array\n",
    "\n",
    "arr = np.array([10,20,30])\n",
    "print(arr)"
   ]
  },
  {
   "cell_type": "code",
   "execution_count": 7,
   "metadata": {},
   "outputs": [],
   "source": [
    "# Shapes Property is used to determine the dimension of array\n",
    "#For 1D array: Shape returns n\n",
    "# n = Number of element in the array\n",
    "\n",
    "# For 2D array: Shape returns n,m\n",
    "# n = Number of Rows and m = Number of Column\n",
    "\n",
    "#For 3D array: Shape returns x,y,z"
   ]
  },
  {
   "cell_type": "code",
   "execution_count": 8,
   "metadata": {},
   "outputs": [
    {
     "name": "stdout",
     "output_type": "stream",
     "text": [
      "[[1 2 3]\n",
      " [4 5 6]\n",
      " [7 8 9]]\n",
      "(3, 3)\n"
     ]
    }
   ],
   "source": [
    "# 2D array\n",
    "\n",
    "twoD = np.array([[1,2,3],[4,5,6],[7,8,9]])\n",
    "print(twoD)\n",
    "print(twoD.shape)"
   ]
  },
  {
   "cell_type": "code",
   "execution_count": 9,
   "metadata": {},
   "outputs": [
    {
     "name": "stdout",
     "output_type": "stream",
     "text": [
      "[[ 1  2  3]\n",
      " [ 4  5  6]\n",
      " [ 7  8  9]\n",
      " [10 11 12]]\n",
      "(4, 3)\n",
      "[[1 2 3]\n",
      " [4 5 6]]\n",
      "(2, 3)\n"
     ]
    }
   ],
   "source": [
    "# Create 4x3 Matrix using array\n",
    "\n",
    "arr = np.array([[1,2,3],[4,5,6],[7,8,9,],[10,11,12]])\n",
    "print(arr)\n",
    "print(arr.shape)\n",
    "\n",
    "# 2x3 Matrix\n",
    "\n",
    "arr1 = np.array([[1,2,3],[4,5,6]])\n",
    "print(arr1)\n",
    "print(arr1.shape)"
   ]
  },
  {
   "cell_type": "code",
   "execution_count": 10,
   "metadata": {},
   "outputs": [
    {
     "name": "stdout",
     "output_type": "stream",
     "text": [
      "(3,)\n",
      "1\n",
      "2\n",
      "[3 2 1]\n",
      "[1 2]\n"
     ]
    }
   ],
   "source": [
    "# Indexing and Slicing\n",
    "\n",
    "arr = np.array([1,2,3])\n",
    "print(arr.shape)\n",
    "\n",
    "print(arr[0])\n",
    "print(arr[-2])\n",
    "print(arr[::-1])\n",
    "print(arr[0:2])"
   ]
  },
  {
   "cell_type": "code",
   "execution_count": 11,
   "metadata": {},
   "outputs": [
    {
     "name": "stdout",
     "output_type": "stream",
     "text": [
      "[4 5 6]\n",
      "[3]\n"
     ]
    }
   ],
   "source": [
    "arr =  np.array([[1,2,3],[4,5,6],[7,8,9]])\n",
    "\n",
    "print(arr[1,0:3])\n",
    "print(arr[0,2:3])"
   ]
  },
  {
   "cell_type": "code",
   "execution_count": 12,
   "metadata": {},
   "outputs": [
    {
     "name": "stdout",
     "output_type": "stream",
     "text": [
      "10\n",
      "20\n",
      "30\n",
      "40\n",
      "50\n",
      "60\n"
     ]
    }
   ],
   "source": [
    "# Iterations on Arrays\n",
    "\n",
    "arr = np.array([10,20,30,40,50,60])\n",
    "for i in arr:\n",
    "    print(i)\n"
   ]
  },
  {
   "cell_type": "code",
   "execution_count": 13,
   "metadata": {},
   "outputs": [
    {
     "name": "stdout",
     "output_type": "stream",
     "text": [
      "int32\n"
     ]
    }
   ],
   "source": [
    "# dtype property\n",
    "# used to determine the type of an array\n",
    "\n",
    "arr = np.array([10,20,30,40,50,60],dtype = 'i4')\n",
    "print(arr.dtype)"
   ]
  },
  {
   "cell_type": "code",
   "execution_count": 14,
   "metadata": {},
   "outputs": [
    {
     "name": "stdout",
     "output_type": "stream",
     "text": [
      "float64\n"
     ]
    }
   ],
   "source": [
    "arr = np.array([10.,20.,30.])\n",
    "print(arr.dtype)"
   ]
  },
  {
   "cell_type": "code",
   "execution_count": 15,
   "metadata": {},
   "outputs": [
    {
     "name": "stdout",
     "output_type": "stream",
     "text": [
      "<U1\n"
     ]
    }
   ],
   "source": [
    "arr = np.array(['a','b','c'])\n",
    "print(arr.dtype)"
   ]
  },
  {
   "cell_type": "code",
   "execution_count": 16,
   "metadata": {},
   "outputs": [
    {
     "name": "stdout",
     "output_type": "stream",
     "text": [
      "[10. 20. 30.] float64\n",
      "[10 20 30] int32\n"
     ]
    }
   ],
   "source": [
    "# astype : used to convert the existing datatype\n",
    "\n",
    "arr = np.array([10.,20.,30.])\n",
    "print(arr,arr.dtype)\n",
    "newarr = arr.astype('int')\n",
    "print(newarr,newarr.dtype)"
   ]
  },
  {
   "cell_type": "code",
   "execution_count": 18,
   "metadata": {},
   "outputs": [
    {
     "name": "stdout",
     "output_type": "stream",
     "text": [
      "[10 20 30 40 50]\n",
      "[10 20 30 40 50]\n"
     ]
    }
   ],
   "source": [
    "# The Difference between Copy and View\n",
    "\n",
    "org_arr = np.array([10,20,30,40,50])\n",
    "print(org_arr)\n",
    "\n",
    "#copy = doesnt affeat orginal array\n",
    "copied_arr = org_arr.copy()\n",
    "print(copied_arr)"
   ]
  },
  {
   "cell_type": "code",
   "execution_count": 19,
   "metadata": {},
   "outputs": [
    {
     "name": "stdout",
     "output_type": "stream",
     "text": [
      "[1000   20   30   40   50]\n",
      "[10 20 30 40 50]\n"
     ]
    }
   ],
   "source": [
    "#changes made in copy wont affeat the original array\n",
    "copied_arr[0] = 1000\n",
    "print(copied_arr)\n",
    "print(org_arr)"
   ]
  },
  {
   "cell_type": "code",
   "execution_count": 22,
   "metadata": {},
   "outputs": [
    {
     "name": "stdout",
     "output_type": "stream",
     "text": [
      "[  10 2000   30   40   50]\n",
      "[  10 2000   30   40   50]\n"
     ]
    }
   ],
   "source": [
    "# view = affeat orginal array\n",
    "\n",
    "org_arr = np.array([10,20,30,40,50])\n",
    "\n",
    "copied_arr = org_arr.view()\n",
    "copied_arr[1] = 2000\n",
    "print(copied_arr)\n",
    "print(org_arr)"
   ]
  },
  {
   "cell_type": "code",
   "execution_count": 28,
   "metadata": {},
   "outputs": [
    {
     "name": "stdout",
     "output_type": "stream",
     "text": [
      "[1 2 3 4 5 6 7 8 9] (9,)\n",
      "[[1 2 3]\n",
      " [4 5 6]\n",
      " [7 8 9]]\n"
     ]
    }
   ],
   "source": [
    "# Reshape() = used to change the dimensions of array\n",
    "\n",
    "#Converting 1D into 2D\n",
    "arr = np.array([1,2,3,4,5,6,7,8,9])\n",
    "print(arr,arr.shape)\n",
    "\n",
    "newarr = arr.reshape(3,3)\n",
    "print(newarr)"
   ]
  },
  {
   "cell_type": "code",
   "execution_count": 36,
   "metadata": {},
   "outputs": [
    {
     "name": "stdout",
     "output_type": "stream",
     "text": [
      "(3, 3)\n",
      "[1 2 3 4 5 6 7 8 9]\n",
      "[1 2 3 4 5 6 7 8 9]\n",
      "[1 2 3 4 5 6 7 8 9]\n"
     ]
    }
   ],
   "source": [
    "#Convert 2D into 1D\n",
    "arr = np.array([[1,2,3],[4,5,6],[7,8,9]])\n",
    "print(arr.shape)\n",
    "\n",
    "onedd = arr.reshape(9)\n",
    "oned = arr.reshape(-1)\n",
    "one = arr.flatten()\n",
    "print(one)\n",
    "print(onedd)\n",
    "print(oned)"
   ]
  }
 ],
 "metadata": {
  "kernelspec": {
   "display_name": "base",
   "language": "python",
   "name": "python3"
  },
  "language_info": {
   "codemirror_mode": {
    "name": "ipython",
    "version": 3
   },
   "file_extension": ".py",
   "mimetype": "text/x-python",
   "name": "python",
   "nbconvert_exporter": "python",
   "pygments_lexer": "ipython3",
   "version": "3.11.7"
  }
 },
 "nbformat": 4,
 "nbformat_minor": 2
}
