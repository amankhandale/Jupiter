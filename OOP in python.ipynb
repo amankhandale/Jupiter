{
 "cells": [
  {
   "cell_type": "code",
   "execution_count": 6,
   "metadata": {},
   "outputs": [
    {
     "name": "stdout",
     "output_type": "stream",
     "text": [
      "[2, 4, 6, 8, 10]\n"
     ]
    }
   ],
   "source": [
    "def even_numbers(nums):\n",
    "    even_list = []\n",
    "    for i in nums:\n",
    "        if i%2 == 0:\n",
    "            even_list.append(i)\n",
    "    return even_list\n",
    "\n",
    "num_list = [2,3,4,5,6,7,8,9,10]\n",
    "# res = even_numbers(num_list)\n",
    "print(even_numbers(num_list))"
   ]
  },
  {
   "cell_type": "code",
   "execution_count": 9,
   "metadata": {},
   "outputs": [
    {
     "name": "stdout",
     "output_type": "stream",
     "text": [
      "(2, 4, 6, 8, 10)\n"
     ]
    }
   ],
   "source": [
    "num_list = (2,3,4,5,6,7,8,9,10)\n",
    "even_numbers = tuple(filter(lambda x: x%2 == 0, num_list))\n",
    "print(even_numbers)"
   ]
  },
  {
   "cell_type": "code",
   "execution_count": 11,
   "metadata": {},
   "outputs": [
    {
     "name": "stdout",
     "output_type": "stream",
     "text": [
      "[76, 71, 90, 81, 98]\n"
     ]
    }
   ],
   "source": [
    "marks = [69,48,76,40,71,90,81,98]\n",
    "res = list(filter(lambda x: x>=70, marks))\n",
    "print(res)\n"
   ]
  },
  {
   "cell_type": "code",
   "execution_count": 15,
   "metadata": {},
   "outputs": [
    {
     "name": "stdout",
     "output_type": "stream",
     "text": [
      "['Solitude', 'Khandale', 'Python']\n"
     ]
    }
   ],
   "source": [
    "str = [\n",
    "    'Ark',\n",
    "    'Solitude',\n",
    "    'Aman',\n",
    "    'Khandale',\n",
    "    'Python',\n",
    "    'Pro',\n",
    "]\n",
    "res = list(filter(lambda x: len(x) >= 5, str))\n",
    "print(res)"
   ]
  },
  {
   "cell_type": "code",
   "execution_count": 20,
   "metadata": {},
   "outputs": [
    {
     "name": "stdout",
     "output_type": "stream",
     "text": [
      "[2, 6, 12, 20, 30, 42, 56, 72, 90, 110]\n"
     ]
    }
   ],
   "source": [
    "list1 = [1,2,3,4,5,6,7,8,9,10]\n",
    "res = list(map(lambda x: x*x+x, list1))\n",
    "print(res)"
   ]
  },
  {
   "cell_type": "code",
   "execution_count": 35,
   "metadata": {},
   "outputs": [
    {
     "name": "stdout",
     "output_type": "stream",
     "text": [
      "1 2 3 4 5\n",
      "Hey\n"
     ]
    }
   ],
   "source": [
    "class myClass:\n",
    "    '''My name is Aman'''\n",
    "\n",
    "\n",
    "    a = 69\n",
    "    b = 80\n",
    "    c = 'Aman'\n",
    "    \n",
    "    def func1(ass):\n",
    "        print(1,2,3,4,5)\n",
    "        \n",
    "    def func2(fuck):\n",
    "        print(\"Hey\")\n",
    "\n",
    "obj1 = myClass()\n",
    "obj2 = myClass()\n",
    "\n",
    "obj1.func1()\n",
    "obj2.func2()\n"
   ]
  },
  {
   "cell_type": "code",
   "execution_count": null,
   "metadata": {},
   "outputs": [],
   "source": [
    "help(myClass)"
   ]
  },
  {
   "cell_type": "code",
   "execution_count": null,
   "metadata": {},
   "outputs": [],
   "source": [
    "print(myClass.a)\n",
    "obj1 = myClass \n",
    "obj2 = myClass\n",
    "\n",
    "# print(obj1.a, obj2.b)\n",
    "\n",
    "obj1.func1(ball)"
   ]
  },
  {
   "cell_type": "code",
   "execution_count": 1,
   "metadata": {},
   "outputs": [
    {
     "name": "stdout",
     "output_type": "stream",
     "text": [
      "Student 1: Aman \n",
      "Student 2: ark\n",
      "Student 3: ak\n"
     ]
    }
   ],
   "source": [
    "class student_info():\n",
    "    def __init__(self, stu1, stu2, stu3):\n",
    "        self.stu1 = stu1\n",
    "        self.stu2 = stu2\n",
    "        self.stu3 = stu3\n",
    "\n",
    "stu1 = (input(\"Enter Name 1:\"))\n",
    "stu2 = (input(\"Enter Name 2:\"))\n",
    "stu3 = (input(\"Enter Name 3:\"))\n",
    "\n",
    "students = student_info(stu1, stu2, stu3)\n",
    "\n",
    "print(\"Student 1:\",stu1)\n",
    "print(\"Student 2:\",stu2)\n",
    "print(\"Student 3:\",stu3)"
   ]
  },
  {
   "cell_type": "code",
   "execution_count": null,
   "metadata": {},
   "outputs": [],
   "source": [
    "help(student_info)"
   ]
  }
 ],
 "metadata": {
  "kernelspec": {
   "display_name": "base",
   "language": "python",
   "name": "python3"
  },
  "language_info": {
   "codemirror_mode": {
    "name": "ipython",
    "version": 3
   },
   "file_extension": ".py",
   "mimetype": "text/x-python",
   "name": "python",
   "nbconvert_exporter": "python",
   "pygments_lexer": "ipython3",
   "version": "3.11.7"
  }
 },
 "nbformat": 4,
 "nbformat_minor": 2
}
